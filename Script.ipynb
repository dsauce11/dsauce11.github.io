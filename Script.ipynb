{
  "nbformat": 4,
  "nbformat_minor": 0,
  "metadata": {
    "colab": {
      "name": "Script.ipynb",
      "provenance": [],
      "collapsed_sections": []
    },
    "kernelspec": {
      "name": "python3",
      "display_name": "Python 3"
    },
    "language_info": {
      "name": "python"
    }
  },
  "cells": [
    {
      "cell_type": "code",
      "metadata": {
        "id": "-QVYYVl1BW3Q"
      },
      "source": [
        "import pandas as pd"
      ],
      "execution_count": 90,
      "outputs": []
    },
    {
      "cell_type": "code",
      "metadata": {
        "colab": {
          "base_uri": "https://localhost:8080/",
          "height": 419
        },
        "id": "sbMwRcIMBY-9",
        "outputId": "a2442540-7c74-4734-dbf1-a48861713080"
      },
      "source": [
        "PlayersData = pd.read_csv('/content/PlayersData.csv')\n",
        "PlayersData\n"
      ],
      "execution_count": 133,
      "outputs": [
        {
          "output_type": "execute_result",
          "data": {
            "text/html": [
              "<div>\n",
              "<style scoped>\n",
              "    .dataframe tbody tr th:only-of-type {\n",
              "        vertical-align: middle;\n",
              "    }\n",
              "\n",
              "    .dataframe tbody tr th {\n",
              "        vertical-align: top;\n",
              "    }\n",
              "\n",
              "    .dataframe thead th {\n",
              "        text-align: right;\n",
              "    }\n",
              "</style>\n",
              "<table border=\"1\" class=\"dataframe\">\n",
              "  <thead>\n",
              "    <tr style=\"text-align: right;\">\n",
              "      <th></th>\n",
              "      <th>Player</th>\n",
              "      <th>Gls</th>\n",
              "      <th>Ast</th>\n",
              "      <th>xG</th>\n",
              "      <th>xA</th>\n",
              "      <th>Season</th>\n",
              "    </tr>\n",
              "  </thead>\n",
              "  <tbody>\n",
              "    <tr>\n",
              "      <th>0</th>\n",
              "      <td>Bernd Leno</td>\n",
              "      <td>0</td>\n",
              "      <td>0</td>\n",
              "      <td>0.0</td>\n",
              "      <td>0.0</td>\n",
              "      <td>20/21</td>\n",
              "    </tr>\n",
              "    <tr>\n",
              "      <th>1</th>\n",
              "      <td>Bukayo Saka</td>\n",
              "      <td>5</td>\n",
              "      <td>3</td>\n",
              "      <td>6.9</td>\n",
              "      <td>4.7</td>\n",
              "      <td>20/21</td>\n",
              "    </tr>\n",
              "    <tr>\n",
              "      <th>2</th>\n",
              "      <td>Granit Xhaka</td>\n",
              "      <td>1</td>\n",
              "      <td>2</td>\n",
              "      <td>0.8</td>\n",
              "      <td>1.6</td>\n",
              "      <td>20/21</td>\n",
              "    </tr>\n",
              "    <tr>\n",
              "      <th>3</th>\n",
              "      <td>Rob Holding</td>\n",
              "      <td>0</td>\n",
              "      <td>1</td>\n",
              "      <td>1.1</td>\n",
              "      <td>0.2</td>\n",
              "      <td>20/21</td>\n",
              "    </tr>\n",
              "    <tr>\n",
              "      <th>4</th>\n",
              "      <td>Pierre-Emerick Aubameyang</td>\n",
              "      <td>10</td>\n",
              "      <td>3</td>\n",
              "      <td>10.6</td>\n",
              "      <td>2.8</td>\n",
              "      <td>20/21</td>\n",
              "    </tr>\n",
              "    <tr>\n",
              "      <th>...</th>\n",
              "      <td>...</td>\n",
              "      <td>...</td>\n",
              "      <td>...</td>\n",
              "      <td>...</td>\n",
              "      <td>...</td>\n",
              "      <td>...</td>\n",
              "    </tr>\n",
              "    <tr>\n",
              "      <th>627</th>\n",
              "      <td>Dele Alli</td>\n",
              "      <td>0</td>\n",
              "      <td>1</td>\n",
              "      <td>1.3</td>\n",
              "      <td>0.9</td>\n",
              "      <td>20/21</td>\n",
              "    </tr>\n",
              "    <tr>\n",
              "      <th>628</th>\n",
              "      <td>Japhet Tanganga</td>\n",
              "      <td>0</td>\n",
              "      <td>0</td>\n",
              "      <td>0.2</td>\n",
              "      <td>0.0</td>\n",
              "      <td>20/21</td>\n",
              "    </tr>\n",
              "    <tr>\n",
              "      <th>629</th>\n",
              "      <td>Érik Lamela</td>\n",
              "      <td>1</td>\n",
              "      <td>0</td>\n",
              "      <td>1.4</td>\n",
              "      <td>0.9</td>\n",
              "      <td>20/21</td>\n",
              "    </tr>\n",
              "    <tr>\n",
              "      <th>630</th>\n",
              "      <td>Carlos Vinícius</td>\n",
              "      <td>1</td>\n",
              "      <td>0</td>\n",
              "      <td>1.4</td>\n",
              "      <td>0.1</td>\n",
              "      <td>20/21</td>\n",
              "    </tr>\n",
              "    <tr>\n",
              "      <th>631</th>\n",
              "      <td>Dane Scarlett</td>\n",
              "      <td>0</td>\n",
              "      <td>0</td>\n",
              "      <td>0.0</td>\n",
              "      <td>0.0</td>\n",
              "      <td>20/21</td>\n",
              "    </tr>\n",
              "  </tbody>\n",
              "</table>\n",
              "<p>632 rows × 6 columns</p>\n",
              "</div>"
            ],
            "text/plain": [
              "                        Player  Gls  Ast    xG   xA Season\n",
              "0                   Bernd Leno    0    0   0.0  0.0  20/21\n",
              "1                  Bukayo Saka    5    3   6.9  4.7  20/21\n",
              "2                 Granit Xhaka    1    2   0.8  1.6  20/21\n",
              "3                  Rob Holding    0    1   1.1  0.2  20/21\n",
              "4    Pierre-Emerick Aubameyang   10    3  10.6  2.8  20/21\n",
              "..                         ...  ...  ...   ...  ...    ...\n",
              "627                  Dele Alli    0    1   1.3  0.9  20/21\n",
              "628            Japhet Tanganga    0    0   0.2  0.0  20/21\n",
              "629                Érik Lamela    1    0   1.4  0.9  20/21\n",
              "630            Carlos Vinícius    1    0   1.4  0.1  20/21\n",
              "631              Dane Scarlett    0    0   0.0  0.0  20/21\n",
              "\n",
              "[632 rows x 6 columns]"
            ]
          },
          "metadata": {
            "tags": []
          },
          "execution_count": 133
        }
      ]
    },
    {
      "cell_type": "code",
      "metadata": {
        "colab": {
          "base_uri": "https://localhost:8080/"
        },
        "id": "7BYRfP9Be_8j",
        "outputId": "6d4fdce8-62ce-40a2-c740-973c2a58bcc5"
      },
      "source": [
        "df = PlayersData.loc[PlayersData['Player'] == 'Bernd Leno']\n",
        "df1 = PlayersData.loc[PlayersData['Player'] == 'Kieran Tierney']\n",
        "df = df.append(df1)\n",
        "df = df.reset_index()\n",
        "df = df.drop(['index'], axis=1)\n",
        "uni_player2 = df['Player'].unique()\n",
        "seasonsUni = PlayersData['Season'].unique()\n",
        "df2 = df.loc[df['Player'] == uni_player2[0]]\n",
        "\n",
        "\n",
        "for i in uni_player2:\n",
        "  temp = df.loc[df['Player'] == i]\n",
        "  if ((temp['Season'].isin(['17/18']).any()) == False):\n",
        "    d = {'Player':i, 'Gls':0, 'Ast':0,'xG':0,'xA':0,'Season':'17/18'}\n",
        "    df = df.append(d,ignore_index=True)\n",
        "  if ((temp['Season'].isin(['18/19']).any()) == False):\n",
        "    d = {'Player':i, 'Gls':0, 'Ast':0,'xG':0,'xA':0,'Season':'18/19'}\n",
        "    df = df.append(d,ignore_index=True)\n",
        "  if ((temp['Season'].isin(['19/20']).any()) == False):\n",
        "    d = {'Player':i, 'Gls':0, 'Ast':0,'xG':0,'xA':0,'Season':'19/20'}\n",
        "    df = df.append(d,ignore_index=True)\n",
        "  if ((temp['Season'].isin(['20/21']).any()) == False):\n",
        "    d = {'Player':i, 'Gls':0, 'Ast':0,'xG':0,'xA':0,'Season':'20/21'}\n",
        "    df = df.append(d,ignore_index=True)\n",
        "\n",
        "print(df)\n",
        "#df2['Season'].isin(['20/21']).any()\n",
        "#df2['Season'].isin(['17/18']).any()"
      ],
      "execution_count": 131,
      "outputs": [
        {
          "output_type": "stream",
          "text": [
            "           Player  Gls  Ast   xG   xA Season\n",
            "0      Bernd Leno    0    0  0.0  0.0  20/21\n",
            "1      Bernd Leno    0    0  0.0  0.0  19/20\n",
            "2      Bernd Leno    0    0  0.0  0.0  18/19\n",
            "3  Kieran Tierney    1    3  0.4  4.1  20/21\n",
            "4  Kieran Tierney    1    1  0.3  1.1  19/20\n",
            "5      Bernd Leno    0    0  0.0  0.0  17/18\n",
            "6  Kieran Tierney    0    0  0.0  0.0  17/18\n",
            "7  Kieran Tierney    0    0  0.0  0.0  18/19\n"
          ],
          "name": "stdout"
        }
      ]
    },
    {
      "cell_type": "code",
      "metadata": {
        "colab": {
          "base_uri": "https://localhost:8080/",
          "height": 173
        },
        "id": "5ofKXflyYUnG",
        "outputId": "dafbd0a6-a9f1-4477-e45e-b30d1fa10325"
      },
      "source": [
        "uni_player = PlayersData['Player'].unique()\n",
        "for i in uni_player:\n",
        "  temp = PlayersData.loc[PlayersData['Player'] == i]\n",
        "  if ((temp['Season'].isin(['17/18']).any()) == False):\n",
        "    d = {'Player':i, 'Gls':0, 'Ast':0,'xG':0,'xA':0,'Season':'17/18'}\n",
        "    PlayersData = PlayersData.append(d,ignore_index=True)\n",
        "  if ((temp['Season'].isin(['18/19']).any()) == False):\n",
        "    d = {'Player':i, 'Gls':0, 'Ast':0,'xG':0,'xA':0,'Season':'18/19'}\n",
        "    PlayersData = PlayersData.append(d,ignore_index=True)\n",
        "  if ((temp['Season'].isin(['19/20']).any()) == False):\n",
        "    d = {'Player':i, 'Gls':0, 'Ast':0,'xG':0,'xA':0,'Season':'19/20'}\n",
        "    PlayersData = PlayersData.append(d,ignore_index=True)\n",
        "  if ((temp['Season'].isin(['20/21']).any()) == False):\n",
        "    d = {'Player':i, 'Gls':0, 'Ast':0,'xG':0,'xA':0,'Season':'20/21'}\n",
        "    PlayersData = PlayersData.append(d,ignore_index=True)\n",
        "\n",
        "\n",
        "\n",
        "\n",
        "PlayersData.loc[PlayersData['Player'] == 'Bukayo Saka']"
      ],
      "execution_count": 135,
      "outputs": [
        {
          "output_type": "execute_result",
          "data": {
            "text/html": [
              "<div>\n",
              "<style scoped>\n",
              "    .dataframe tbody tr th:only-of-type {\n",
              "        vertical-align: middle;\n",
              "    }\n",
              "\n",
              "    .dataframe tbody tr th {\n",
              "        vertical-align: top;\n",
              "    }\n",
              "\n",
              "    .dataframe thead th {\n",
              "        text-align: right;\n",
              "    }\n",
              "</style>\n",
              "<table border=\"1\" class=\"dataframe\">\n",
              "  <thead>\n",
              "    <tr style=\"text-align: right;\">\n",
              "      <th></th>\n",
              "      <th>Player</th>\n",
              "      <th>Gls</th>\n",
              "      <th>Ast</th>\n",
              "      <th>xG</th>\n",
              "      <th>xA</th>\n",
              "      <th>Season</th>\n",
              "    </tr>\n",
              "  </thead>\n",
              "  <tbody>\n",
              "    <tr>\n",
              "      <th>1</th>\n",
              "      <td>Bukayo Saka</td>\n",
              "      <td>5</td>\n",
              "      <td>3</td>\n",
              "      <td>6.9</td>\n",
              "      <td>4.7</td>\n",
              "      <td>20/21</td>\n",
              "    </tr>\n",
              "    <tr>\n",
              "      <th>35</th>\n",
              "      <td>Bukayo Saka</td>\n",
              "      <td>1</td>\n",
              "      <td>5</td>\n",
              "      <td>1.3</td>\n",
              "      <td>3.5</td>\n",
              "      <td>19/20</td>\n",
              "    </tr>\n",
              "    <tr>\n",
              "      <th>82</th>\n",
              "      <td>Bukayo Saka</td>\n",
              "      <td>0</td>\n",
              "      <td>0</td>\n",
              "      <td>0.0</td>\n",
              "      <td>0.0</td>\n",
              "      <td>18/19</td>\n",
              "    </tr>\n",
              "    <tr>\n",
              "      <th>633</th>\n",
              "      <td>Bukayo Saka</td>\n",
              "      <td>0</td>\n",
              "      <td>0</td>\n",
              "      <td>0.0</td>\n",
              "      <td>0.0</td>\n",
              "      <td>17/18</td>\n",
              "    </tr>\n",
              "  </tbody>\n",
              "</table>\n",
              "</div>"
            ],
            "text/plain": [
              "          Player  Gls  Ast   xG   xA Season\n",
              "1    Bukayo Saka    5    3  6.9  4.7  20/21\n",
              "35   Bukayo Saka    1    5  1.3  3.5  19/20\n",
              "82   Bukayo Saka    0    0  0.0  0.0  18/19\n",
              "633  Bukayo Saka    0    0  0.0  0.0  17/18"
            ]
          },
          "metadata": {
            "tags": []
          },
          "execution_count": 135
        }
      ]
    },
    {
      "cell_type": "code",
      "metadata": {
        "colab": {
          "base_uri": "https://localhost:8080/",
          "height": 173
        },
        "id": "m69O7fo_XAlE",
        "outputId": "b200952e-e4bc-49db-d9bd-29f62db312f4"
      },
      "source": [
        "PlayersData.loc[PlayersData['Player'] == 'Thomas Partey']"
      ],
      "execution_count": 137,
      "outputs": [
        {
          "output_type": "execute_result",
          "data": {
            "text/html": [
              "<div>\n",
              "<style scoped>\n",
              "    .dataframe tbody tr th:only-of-type {\n",
              "        vertical-align: middle;\n",
              "    }\n",
              "\n",
              "    .dataframe tbody tr th {\n",
              "        vertical-align: top;\n",
              "    }\n",
              "\n",
              "    .dataframe thead th {\n",
              "        text-align: right;\n",
              "    }\n",
              "</style>\n",
              "<table border=\"1\" class=\"dataframe\">\n",
              "  <thead>\n",
              "    <tr style=\"text-align: right;\">\n",
              "      <th></th>\n",
              "      <th>Player</th>\n",
              "      <th>Gls</th>\n",
              "      <th>Ast</th>\n",
              "      <th>xG</th>\n",
              "      <th>xA</th>\n",
              "      <th>Season</th>\n",
              "    </tr>\n",
              "  </thead>\n",
              "  <tbody>\n",
              "    <tr>\n",
              "      <th>9</th>\n",
              "      <td>Thomas Partey</td>\n",
              "      <td>0</td>\n",
              "      <td>2</td>\n",
              "      <td>1.3</td>\n",
              "      <td>1.0</td>\n",
              "      <td>20/21</td>\n",
              "    </tr>\n",
              "    <tr>\n",
              "      <th>639</th>\n",
              "      <td>Thomas Partey</td>\n",
              "      <td>0</td>\n",
              "      <td>0</td>\n",
              "      <td>0.0</td>\n",
              "      <td>0.0</td>\n",
              "      <td>17/18</td>\n",
              "    </tr>\n",
              "    <tr>\n",
              "      <th>640</th>\n",
              "      <td>Thomas Partey</td>\n",
              "      <td>0</td>\n",
              "      <td>0</td>\n",
              "      <td>0.0</td>\n",
              "      <td>0.0</td>\n",
              "      <td>18/19</td>\n",
              "    </tr>\n",
              "    <tr>\n",
              "      <th>641</th>\n",
              "      <td>Thomas Partey</td>\n",
              "      <td>0</td>\n",
              "      <td>0</td>\n",
              "      <td>0.0</td>\n",
              "      <td>0.0</td>\n",
              "      <td>19/20</td>\n",
              "    </tr>\n",
              "  </tbody>\n",
              "</table>\n",
              "</div>"
            ],
            "text/plain": [
              "            Player  Gls  Ast   xG   xA Season\n",
              "9    Thomas Partey    0    2  1.3  1.0  20/21\n",
              "639  Thomas Partey    0    0  0.0  0.0  17/18\n",
              "640  Thomas Partey    0    0  0.0  0.0  18/19\n",
              "641  Thomas Partey    0    0  0.0  0.0  19/20"
            ]
          },
          "metadata": {
            "tags": []
          },
          "execution_count": 137
        }
      ]
    },
    {
      "cell_type": "code",
      "metadata": {
        "id": "DERv0KBOqzaF"
      },
      "source": [
        "PlayersData.to_csv(r'/content/PlayersDataFIX.csv', index = False)"
      ],
      "execution_count": 139,
      "outputs": []
    }
  ]
}